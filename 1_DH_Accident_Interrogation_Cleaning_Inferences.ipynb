{
 "cells": [
  {
   "cell_type": "code",
   "execution_count": 133,
   "metadata": {},
   "outputs": [],
   "source": [
    "import pandas as pd\n",
    "\n",
    "data=pd.read_excel('Dummy data (1).xlsx')\n"
   ]
  },
  {
   "cell_type": "code",
   "execution_count": 134,
   "metadata": {
    "scrolled": true
   },
   "outputs": [
    {
     "data": {
      "text/plain": [
       "Index(['#', 'Number of rider', 'List of operating countries',\n",
       "       'List of entities', 'Type of employment', 'Type of transport means',\n",
       "       'Number of accidents', 'Financial losses due to claims',\n",
       "       'Rider salary p.M.', 'Insurance Y/N', 'Number of deliveries p.D.',\n",
       "       'Delivery date', 'Delivery time'],\n",
       "      dtype='object')"
      ]
     },
     "execution_count": 134,
     "metadata": {},
     "output_type": "execute_result"
    }
   ],
   "source": [
    "# What fields do we have in the data?\n",
    "data.columns"
   ]
  },
  {
   "cell_type": "code",
   "execution_count": 135,
   "metadata": {},
   "outputs": [
    {
     "data": {
      "text/html": [
       "<div>\n",
       "<style scoped>\n",
       "    .dataframe tbody tr th:only-of-type {\n",
       "        vertical-align: middle;\n",
       "    }\n",
       "\n",
       "    .dataframe tbody tr th {\n",
       "        vertical-align: top;\n",
       "    }\n",
       "\n",
       "    .dataframe thead th {\n",
       "        text-align: right;\n",
       "    }\n",
       "</style>\n",
       "<table border=\"1\" class=\"dataframe\">\n",
       "  <thead>\n",
       "    <tr style=\"text-align: right;\">\n",
       "      <th></th>\n",
       "      <th>#</th>\n",
       "      <th>Number of rider</th>\n",
       "      <th>List of operating countries</th>\n",
       "      <th>List of entities</th>\n",
       "      <th>Type of employment</th>\n",
       "      <th>Type of transport means</th>\n",
       "      <th>Number of accidents</th>\n",
       "      <th>Financial losses due to claims</th>\n",
       "      <th>Rider salary p.M.</th>\n",
       "      <th>Insurance Y/N</th>\n",
       "      <th>Number of deliveries p.D.</th>\n",
       "      <th>Delivery date</th>\n",
       "      <th>Delivery time</th>\n",
       "    </tr>\n",
       "  </thead>\n",
       "  <tbody>\n",
       "    <tr>\n",
       "      <th>0</th>\n",
       "      <td>523</td>\n",
       "      <td>3136</td>\n",
       "      <td>Turkey</td>\n",
       "      <td>Yemeksepeti</td>\n",
       "      <td>third party rider</td>\n",
       "      <td>Bike</td>\n",
       "      <td>6</td>\n",
       "      <td>27</td>\n",
       "      <td>2611</td>\n",
       "      <td>Y</td>\n",
       "      <td>119</td>\n",
       "      <td>2020-04-30 00:00:00</td>\n",
       "      <td>00:03</td>\n",
       "    </tr>\n",
       "    <tr>\n",
       "      <th>1</th>\n",
       "      <td>680</td>\n",
       "      <td>3121</td>\n",
       "      <td>Turkey</td>\n",
       "      <td>Yemeksepeti</td>\n",
       "      <td>third party rider</td>\n",
       "      <td>Scooter</td>\n",
       "      <td>5</td>\n",
       "      <td>167</td>\n",
       "      <td>2260</td>\n",
       "      <td>N</td>\n",
       "      <td>130</td>\n",
       "      <td>2020-04-30 00:00:00</td>\n",
       "      <td>19:20</td>\n",
       "    </tr>\n",
       "    <tr>\n",
       "      <th>2</th>\n",
       "      <td>641</td>\n",
       "      <td>1187</td>\n",
       "      <td>Turkey</td>\n",
       "      <td>Yemeksepeti</td>\n",
       "      <td>freelance rider</td>\n",
       "      <td>Foot</td>\n",
       "      <td>4</td>\n",
       "      <td>105</td>\n",
       "      <td>2010</td>\n",
       "      <td>N</td>\n",
       "      <td>92</td>\n",
       "      <td>2020-04-30 00:00:00</td>\n",
       "      <td>02:40</td>\n",
       "    </tr>\n",
       "    <tr>\n",
       "      <th>3</th>\n",
       "      <td>326</td>\n",
       "      <td>429</td>\n",
       "      <td>Turkey</td>\n",
       "      <td>Yemeksepeti</td>\n",
       "      <td>own rider</td>\n",
       "      <td>Bike</td>\n",
       "      <td>1</td>\n",
       "      <td>73</td>\n",
       "      <td>2792</td>\n",
       "      <td>N</td>\n",
       "      <td>137</td>\n",
       "      <td>2020-04-30 00:00:00</td>\n",
       "      <td>07:44</td>\n",
       "    </tr>\n",
       "    <tr>\n",
       "      <th>4</th>\n",
       "      <td>656</td>\n",
       "      <td>609</td>\n",
       "      <td>Turkey</td>\n",
       "      <td>Yemeksepeti</td>\n",
       "      <td>third party rider</td>\n",
       "      <td>Bike</td>\n",
       "      <td>0</td>\n",
       "      <td>259</td>\n",
       "      <td>2905</td>\n",
       "      <td>N</td>\n",
       "      <td>73</td>\n",
       "      <td>2020-04-30 00:00:00</td>\n",
       "      <td>20:48</td>\n",
       "    </tr>\n",
       "  </tbody>\n",
       "</table>\n",
       "</div>"
      ],
      "text/plain": [
       "     # Number of rider List of operating countries List of entities  \\\n",
       "0  523            3136                      Turkey      Yemeksepeti   \n",
       "1  680            3121                      Turkey      Yemeksepeti   \n",
       "2  641            1187                      Turkey      Yemeksepeti   \n",
       "3  326             429                      Turkey      Yemeksepeti   \n",
       "4  656             609                      Turkey      Yemeksepeti   \n",
       "\n",
       "  Type of employment Type of transport means Number of accidents  \\\n",
       "0  third party rider                    Bike                   6   \n",
       "1  third party rider                 Scooter                   5   \n",
       "2    freelance rider                    Foot                   4   \n",
       "3          own rider                    Bike                   1   \n",
       "4  third party rider                    Bike                   0   \n",
       "\n",
       "  Financial losses due to claims Rider salary p.M. Insurance Y/N  \\\n",
       "0                             27              2611             Y   \n",
       "1                            167              2260             N   \n",
       "2                            105              2010             N   \n",
       "3                             73              2792             N   \n",
       "4                            259              2905             N   \n",
       "\n",
       "   Number of deliveries p.D.        Delivery date Delivery time  \n",
       "0                        119  2020-04-30 00:00:00         00:03  \n",
       "1                        130  2020-04-30 00:00:00         19:20  \n",
       "2                         92  2020-04-30 00:00:00         02:40  \n",
       "3                        137  2020-04-30 00:00:00         07:44  \n",
       "4                         73  2020-04-30 00:00:00         20:48  "
      ]
     },
     "execution_count": 135,
     "metadata": {},
     "output_type": "execute_result"
    }
   ],
   "source": [
    "# Analysis column wise to check for outliers etc.\n",
    "data.head()"
   ]
  },
  {
   "cell_type": "code",
   "execution_count": 136,
   "metadata": {},
   "outputs": [],
   "source": [
    "# Number of Rider: numerical - Possibly a unique identifier for each rider\n",
    "# List of operating countries and entities: singular value\n",
    "# Type of employment: categorical\n",
    "# Type of transport: categorical\n",
    "# Number of accidents: continuous (target variable)\n",
    "# Financial Losses: continuous(might need to bin/bucket it)\n",
    "# Rider Salary p.m.: continuous \n",
    "# Insurance: binary (boolean i.e. true/false)\n",
    "# No. of deliveries per day: continuous (might need to bin/bucket it)\n",
    "# Delivery date: Date variable\n",
    "# Delivery time: Time variable (needs internal dummy variable)"
   ]
  },
  {
   "cell_type": "code",
   "execution_count": 137,
   "metadata": {},
   "outputs": [
    {
     "data": {
      "text/html": [
       "<div>\n",
       "<style scoped>\n",
       "    .dataframe tbody tr th:only-of-type {\n",
       "        vertical-align: middle;\n",
       "    }\n",
       "\n",
       "    .dataframe tbody tr th {\n",
       "        vertical-align: top;\n",
       "    }\n",
       "\n",
       "    .dataframe thead th {\n",
       "        text-align: right;\n",
       "    }\n",
       "</style>\n",
       "<table border=\"1\" class=\"dataframe\">\n",
       "  <thead>\n",
       "    <tr style=\"text-align: right;\">\n",
       "      <th></th>\n",
       "      <th>#</th>\n",
       "      <th>Number of rider</th>\n",
       "      <th>List of operating countries</th>\n",
       "      <th>List of entities</th>\n",
       "      <th>Type of employment</th>\n",
       "      <th>Type of transport means</th>\n",
       "      <th>Number of accidents</th>\n",
       "      <th>Financial losses due to claims</th>\n",
       "      <th>Rider salary p.M.</th>\n",
       "      <th>Insurance Y/N</th>\n",
       "      <th>Number of deliveries p.D.</th>\n",
       "      <th>Delivery date</th>\n",
       "      <th>Delivery time</th>\n",
       "    </tr>\n",
       "  </thead>\n",
       "  <tbody>\n",
       "    <tr>\n",
       "      <th>0</th>\n",
       "      <td>523</td>\n",
       "      <td>3136</td>\n",
       "      <td>Turkey</td>\n",
       "      <td>Yemeksepeti</td>\n",
       "      <td>third party rider</td>\n",
       "      <td>Bike</td>\n",
       "      <td>6</td>\n",
       "      <td>27</td>\n",
       "      <td>2611</td>\n",
       "      <td>Y</td>\n",
       "      <td>119</td>\n",
       "      <td>2020-04-30 00:00:00</td>\n",
       "      <td>00:03</td>\n",
       "    </tr>\n",
       "    <tr>\n",
       "      <th>1</th>\n",
       "      <td>680</td>\n",
       "      <td>3121</td>\n",
       "      <td>Turkey</td>\n",
       "      <td>Yemeksepeti</td>\n",
       "      <td>third party rider</td>\n",
       "      <td>Scooter</td>\n",
       "      <td>5</td>\n",
       "      <td>167</td>\n",
       "      <td>2260</td>\n",
       "      <td>N</td>\n",
       "      <td>130</td>\n",
       "      <td>2020-04-30 00:00:00</td>\n",
       "      <td>19:20</td>\n",
       "    </tr>\n",
       "    <tr>\n",
       "      <th>2</th>\n",
       "      <td>641</td>\n",
       "      <td>1187</td>\n",
       "      <td>Turkey</td>\n",
       "      <td>Yemeksepeti</td>\n",
       "      <td>freelance rider</td>\n",
       "      <td>Foot</td>\n",
       "      <td>4</td>\n",
       "      <td>105</td>\n",
       "      <td>2010</td>\n",
       "      <td>N</td>\n",
       "      <td>92</td>\n",
       "      <td>2020-04-30 00:00:00</td>\n",
       "      <td>02:40</td>\n",
       "    </tr>\n",
       "    <tr>\n",
       "      <th>3</th>\n",
       "      <td>326</td>\n",
       "      <td>429</td>\n",
       "      <td>Turkey</td>\n",
       "      <td>Yemeksepeti</td>\n",
       "      <td>own rider</td>\n",
       "      <td>Bike</td>\n",
       "      <td>1</td>\n",
       "      <td>73</td>\n",
       "      <td>2792</td>\n",
       "      <td>N</td>\n",
       "      <td>137</td>\n",
       "      <td>2020-04-30 00:00:00</td>\n",
       "      <td>07:44</td>\n",
       "    </tr>\n",
       "    <tr>\n",
       "      <th>4</th>\n",
       "      <td>656</td>\n",
       "      <td>609</td>\n",
       "      <td>Turkey</td>\n",
       "      <td>Yemeksepeti</td>\n",
       "      <td>third party rider</td>\n",
       "      <td>Bike</td>\n",
       "      <td>0</td>\n",
       "      <td>259</td>\n",
       "      <td>2905</td>\n",
       "      <td>N</td>\n",
       "      <td>73</td>\n",
       "      <td>2020-04-30 00:00:00</td>\n",
       "      <td>20:48</td>\n",
       "    </tr>\n",
       "    <tr>\n",
       "      <th>...</th>\n",
       "      <td>...</td>\n",
       "      <td>...</td>\n",
       "      <td>...</td>\n",
       "      <td>...</td>\n",
       "      <td>...</td>\n",
       "      <td>...</td>\n",
       "      <td>...</td>\n",
       "      <td>...</td>\n",
       "      <td>...</td>\n",
       "      <td>...</td>\n",
       "      <td>...</td>\n",
       "      <td>...</td>\n",
       "      <td>...</td>\n",
       "    </tr>\n",
       "    <tr>\n",
       "      <th>9994</th>\n",
       "      <td>9418</td>\n",
       "      <td>3197</td>\n",
       "      <td>Turkey</td>\n",
       "      <td>Yemeksepeti</td>\n",
       "      <td>freelance rider</td>\n",
       "      <td>Bike</td>\n",
       "      <td>5</td>\n",
       "      <td>51</td>\n",
       "      <td>2103</td>\n",
       "      <td>N</td>\n",
       "      <td>122</td>\n",
       "      <td>2018-04-01 00:00:00</td>\n",
       "      <td>23:56</td>\n",
       "    </tr>\n",
       "    <tr>\n",
       "      <th>9995</th>\n",
       "      <td>9774</td>\n",
       "      <td>814</td>\n",
       "      <td>Turkey</td>\n",
       "      <td>Yemeksepeti</td>\n",
       "      <td>own rider</td>\n",
       "      <td>Bike</td>\n",
       "      <td>5</td>\n",
       "      <td>49</td>\n",
       "      <td>2503</td>\n",
       "      <td>Y</td>\n",
       "      <td>123</td>\n",
       "      <td>2018-04-01 00:00:00</td>\n",
       "      <td>09:11</td>\n",
       "    </tr>\n",
       "    <tr>\n",
       "      <th>9996</th>\n",
       "      <td>9828</td>\n",
       "      <td>466</td>\n",
       "      <td>Turkey</td>\n",
       "      <td>Yemeksepeti</td>\n",
       "      <td>freelance rider</td>\n",
       "      <td>Bike</td>\n",
       "      <td>4</td>\n",
       "      <td>123</td>\n",
       "      <td>2186</td>\n",
       "      <td>N</td>\n",
       "      <td>50</td>\n",
       "      <td>2018-04-01 00:00:00</td>\n",
       "      <td>23:06</td>\n",
       "    </tr>\n",
       "    <tr>\n",
       "      <th>9997</th>\n",
       "      <td>9891</td>\n",
       "      <td>971</td>\n",
       "      <td>Turkey</td>\n",
       "      <td>Yemeksepeti</td>\n",
       "      <td>third party rider</td>\n",
       "      <td>Scooter</td>\n",
       "      <td>4</td>\n",
       "      <td>70</td>\n",
       "      <td>2143</td>\n",
       "      <td>N</td>\n",
       "      <td>122</td>\n",
       "      <td>2018-04-01 00:00:00</td>\n",
       "      <td>04:09</td>\n",
       "    </tr>\n",
       "    <tr>\n",
       "      <th>9998</th>\n",
       "      <td>679</td>\n",
       "      <td>1448</td>\n",
       "      <td>Turkey</td>\n",
       "      <td>Yemeksepeti</td>\n",
       "      <td>freelance rider</td>\n",
       "      <td>Bike</td>\n",
       "      <td>0</td>\n",
       "      <td>148</td>\n",
       "      <td>2177</td>\n",
       "      <td>N</td>\n",
       "      <td>87</td>\n",
       "      <td>2345</td>\n",
       "      <td>00:03</td>\n",
       "    </tr>\n",
       "  </tbody>\n",
       "</table>\n",
       "<p>9999 rows × 13 columns</p>\n",
       "</div>"
      ],
      "text/plain": [
       "         # Number of rider List of operating countries List of entities  \\\n",
       "0      523            3136                      Turkey      Yemeksepeti   \n",
       "1      680            3121                      Turkey      Yemeksepeti   \n",
       "2      641            1187                      Turkey      Yemeksepeti   \n",
       "3      326             429                      Turkey      Yemeksepeti   \n",
       "4      656             609                      Turkey      Yemeksepeti   \n",
       "...    ...             ...                         ...              ...   \n",
       "9994  9418            3197                      Turkey      Yemeksepeti   \n",
       "9995  9774             814                      Turkey      Yemeksepeti   \n",
       "9996  9828             466                      Turkey      Yemeksepeti   \n",
       "9997  9891             971                      Turkey      Yemeksepeti   \n",
       "9998   679            1448                      Turkey      Yemeksepeti   \n",
       "\n",
       "     Type of employment Type of transport means Number of accidents  \\\n",
       "0     third party rider                    Bike                   6   \n",
       "1     third party rider                 Scooter                   5   \n",
       "2       freelance rider                    Foot                   4   \n",
       "3             own rider                    Bike                   1   \n",
       "4     third party rider                    Bike                   0   \n",
       "...                 ...                     ...                 ...   \n",
       "9994    freelance rider                    Bike                   5   \n",
       "9995          own rider                    Bike                   5   \n",
       "9996    freelance rider                    Bike                   4   \n",
       "9997  third party rider                 Scooter                   4   \n",
       "9998    freelance rider                    Bike                   0   \n",
       "\n",
       "     Financial losses due to claims Rider salary p.M. Insurance Y/N  \\\n",
       "0                                27              2611             Y   \n",
       "1                               167              2260             N   \n",
       "2                               105              2010             N   \n",
       "3                                73              2792             N   \n",
       "4                               259              2905             N   \n",
       "...                             ...               ...           ...   \n",
       "9994                             51              2103             N   \n",
       "9995                             49              2503             Y   \n",
       "9996                            123              2186             N   \n",
       "9997                             70              2143             N   \n",
       "9998                            148              2177             N   \n",
       "\n",
       "      Number of deliveries p.D.        Delivery date Delivery time  \n",
       "0                           119  2020-04-30 00:00:00         00:03  \n",
       "1                           130  2020-04-30 00:00:00         19:20  \n",
       "2                            92  2020-04-30 00:00:00         02:40  \n",
       "3                           137  2020-04-30 00:00:00         07:44  \n",
       "4                            73  2020-04-30 00:00:00         20:48  \n",
       "...                         ...                  ...           ...  \n",
       "9994                        122  2018-04-01 00:00:00         23:56  \n",
       "9995                        123  2018-04-01 00:00:00         09:11  \n",
       "9996                         50  2018-04-01 00:00:00         23:06  \n",
       "9997                        122  2018-04-01 00:00:00         04:09  \n",
       "9998                         87                 2345         00:03  \n",
       "\n",
       "[9999 rows x 13 columns]"
      ]
     },
     "execution_count": 137,
     "metadata": {},
     "output_type": "execute_result"
    }
   ],
   "source": [
    "data"
   ]
  },
  {
   "cell_type": "code",
   "execution_count": 138,
   "metadata": {},
   "outputs": [
    {
     "data": {
      "text/plain": [
       "count       9999\n",
       "unique      3003\n",
       "top       Turkey\n",
       "freq          32\n",
       "Name: Number of rider, dtype: object"
      ]
     },
     "execution_count": 138,
     "metadata": {},
     "output_type": "execute_result"
    }
   ],
   "source": [
    "#! Data Checks\n",
    "#? number of the rider\n",
    "data['Number of rider'].describe()"
   ]
  },
  {
   "cell_type": "code",
   "execution_count": 139,
   "metadata": {},
   "outputs": [
    {
     "data": {
      "text/plain": [
       "False"
      ]
     },
     "execution_count": 139,
     "metadata": {},
     "output_type": "execute_result"
    }
   ],
   "source": [
    "data['Number of rider'].isnull().any() # check if any value is missing; none"
   ]
  },
  {
   "cell_type": "code",
   "execution_count": 140,
   "metadata": {},
   "outputs": [
    {
     "ename": "ValueError",
     "evalue": "Unable to parse string \"Turkey\" at position 33",
     "output_type": "error",
     "traceback": [
      "\u001b[0;31m---------------------------------------------------------------------------\u001b[0m",
      "\u001b[0;31mValueError\u001b[0m                                Traceback (most recent call last)",
      "\u001b[0;32mpandas/_libs/lib.pyx\u001b[0m in \u001b[0;36mpandas._libs.lib.maybe_convert_numeric\u001b[0;34m()\u001b[0m\n",
      "\u001b[0;31mValueError\u001b[0m: Unable to parse string \"Turkey\"",
      "\nDuring handling of the above exception, another exception occurred:\n",
      "\u001b[0;31mValueError\u001b[0m                                Traceback (most recent call last)",
      "\u001b[0;32m<ipython-input-140-ccfc132d3acb>\u001b[0m in \u001b[0;36m<module>\u001b[0;34m\u001b[0m\n\u001b[0;32m----> 1\u001b[0;31m \u001b[0mpd\u001b[0m\u001b[0;34m.\u001b[0m\u001b[0mto_numeric\u001b[0m\u001b[0;34m(\u001b[0m\u001b[0mdata\u001b[0m\u001b[0;34m[\u001b[0m\u001b[0;34m'Number of rider'\u001b[0m\u001b[0;34m]\u001b[0m\u001b[0;34m)\u001b[0m \u001b[0;31m# there are some anomalies; some fields have value like Turkey or a date which are not numbers\u001b[0m\u001b[0;34m\u001b[0m\u001b[0;34m\u001b[0m\u001b[0m\n\u001b[0m",
      "\u001b[0;32m~/opt/anaconda3/lib/python3.7/site-packages/pandas/core/tools/numeric.py\u001b[0m in \u001b[0;36mto_numeric\u001b[0;34m(arg, errors, downcast)\u001b[0m\n\u001b[1;32m    148\u001b[0m         \u001b[0;32mtry\u001b[0m\u001b[0;34m:\u001b[0m\u001b[0;34m\u001b[0m\u001b[0;34m\u001b[0m\u001b[0m\n\u001b[1;32m    149\u001b[0m             values = lib.maybe_convert_numeric(\n\u001b[0;32m--> 150\u001b[0;31m                 \u001b[0mvalues\u001b[0m\u001b[0;34m,\u001b[0m \u001b[0mset\u001b[0m\u001b[0;34m(\u001b[0m\u001b[0;34m)\u001b[0m\u001b[0;34m,\u001b[0m \u001b[0mcoerce_numeric\u001b[0m\u001b[0;34m=\u001b[0m\u001b[0mcoerce_numeric\u001b[0m\u001b[0;34m\u001b[0m\u001b[0;34m\u001b[0m\u001b[0m\n\u001b[0m\u001b[1;32m    151\u001b[0m             )\n\u001b[1;32m    152\u001b[0m         \u001b[0;32mexcept\u001b[0m \u001b[0;34m(\u001b[0m\u001b[0mValueError\u001b[0m\u001b[0;34m,\u001b[0m \u001b[0mTypeError\u001b[0m\u001b[0;34m)\u001b[0m\u001b[0;34m:\u001b[0m\u001b[0;34m\u001b[0m\u001b[0;34m\u001b[0m\u001b[0m\n",
      "\u001b[0;32mpandas/_libs/lib.pyx\u001b[0m in \u001b[0;36mpandas._libs.lib.maybe_convert_numeric\u001b[0;34m()\u001b[0m\n",
      "\u001b[0;31mValueError\u001b[0m: Unable to parse string \"Turkey\" at position 33"
     ]
    }
   ],
   "source": [
    "pd.to_numeric(data['Number of rider']) # there are some anomalies; some fields have value like Turkey or a date which are not numbers"
   ]
  },
  {
   "cell_type": "code",
   "execution_count": 141,
   "metadata": {},
   "outputs": [],
   "source": [
    "# Select only numeric (isdigit)\n",
    "data=data[data['Number of rider'].astype(str).str.isdigit()]"
   ]
  },
  {
   "cell_type": "code",
   "execution_count": 142,
   "metadata": {
    "scrolled": true
   },
   "outputs": [
    {
     "data": {
      "text/plain": [
       "975     11\n",
       "837     11\n",
       "394     10\n",
       "2255    10\n",
       "2690    10\n",
       "        ..\n",
       "2175     1\n",
       "3091     1\n",
       "2782     1\n",
       "2180     1\n",
       "715      1\n",
       "Name: Number of rider, Length: 2991, dtype: int64"
      ]
     },
     "execution_count": 142,
     "metadata": {},
     "output_type": "execute_result"
    }
   ],
   "source": [
    "pd.value_counts(data['Number of rider']) # Some riders have more than 1 input row"
   ]
  },
  {
   "cell_type": "code",
   "execution_count": 143,
   "metadata": {},
   "outputs": [
    {
     "data": {
      "text/html": [
       "<div>\n",
       "<style scoped>\n",
       "    .dataframe tbody tr th:only-of-type {\n",
       "        vertical-align: middle;\n",
       "    }\n",
       "\n",
       "    .dataframe tbody tr th {\n",
       "        vertical-align: top;\n",
       "    }\n",
       "\n",
       "    .dataframe thead th {\n",
       "        text-align: right;\n",
       "    }\n",
       "</style>\n",
       "<table border=\"1\" class=\"dataframe\">\n",
       "  <thead>\n",
       "    <tr style=\"text-align: right;\">\n",
       "      <th></th>\n",
       "      <th>#</th>\n",
       "      <th>Number of rider</th>\n",
       "      <th>List of operating countries</th>\n",
       "      <th>List of entities</th>\n",
       "      <th>Type of employment</th>\n",
       "      <th>Type of transport means</th>\n",
       "      <th>Number of accidents</th>\n",
       "      <th>Financial losses due to claims</th>\n",
       "      <th>Rider salary p.M.</th>\n",
       "      <th>Insurance Y/N</th>\n",
       "      <th>Number of deliveries p.D.</th>\n",
       "      <th>Delivery date</th>\n",
       "      <th>Delivery time</th>\n",
       "    </tr>\n",
       "  </thead>\n",
       "  <tbody>\n",
       "    <tr>\n",
       "      <th>469</th>\n",
       "      <td>4938</td>\n",
       "      <td>975</td>\n",
       "      <td>Turkey</td>\n",
       "      <td>Yemeksepeti</td>\n",
       "      <td>own rider</td>\n",
       "      <td>Bike</td>\n",
       "      <td>9</td>\n",
       "      <td>239</td>\n",
       "      <td>2066</td>\n",
       "      <td>Y</td>\n",
       "      <td>88</td>\n",
       "      <td>2020-03-27 00:00:00</td>\n",
       "      <td>11:32</td>\n",
       "    </tr>\n",
       "    <tr>\n",
       "      <th>2092</th>\n",
       "      <td>2835</td>\n",
       "      <td>975</td>\n",
       "      <td>Turkey</td>\n",
       "      <td>Yemeksepeti</td>\n",
       "      <td>freelance rider</td>\n",
       "      <td>Scooter</td>\n",
       "      <td>4</td>\n",
       "      <td>187</td>\n",
       "      <td>2272</td>\n",
       "      <td>N</td>\n",
       "      <td>142</td>\n",
       "      <td>2019-11-25 00:00:00</td>\n",
       "      <td>04:58</td>\n",
       "    </tr>\n",
       "    <tr>\n",
       "      <th>2629</th>\n",
       "      <td>5459</td>\n",
       "      <td>975</td>\n",
       "      <td>Turkey</td>\n",
       "      <td>Yemeksepeti</td>\n",
       "      <td>freelance rider</td>\n",
       "      <td>Scooter</td>\n",
       "      <td>0</td>\n",
       "      <td>126</td>\n",
       "      <td>2031</td>\n",
       "      <td>Y</td>\n",
       "      <td>138</td>\n",
       "      <td>2019-10-13 00:00:00</td>\n",
       "      <td>03:20</td>\n",
       "    </tr>\n",
       "    <tr>\n",
       "      <th>3423</th>\n",
       "      <td>8608</td>\n",
       "      <td>975</td>\n",
       "      <td>Turkey</td>\n",
       "      <td>Yemeksepeti</td>\n",
       "      <td>freelance rider</td>\n",
       "      <td>Scooter</td>\n",
       "      <td>2</td>\n",
       "      <td>125</td>\n",
       "      <td>2269</td>\n",
       "      <td>N</td>\n",
       "      <td>116</td>\n",
       "      <td>2019-08-14 00:00:00</td>\n",
       "      <td>19:10</td>\n",
       "    </tr>\n",
       "    <tr>\n",
       "      <th>4010</th>\n",
       "      <td>7513</td>\n",
       "      <td>975</td>\n",
       "      <td>Turkey</td>\n",
       "      <td>Yemeksepeti</td>\n",
       "      <td>own rider</td>\n",
       "      <td>Foot</td>\n",
       "      <td>6</td>\n",
       "      <td>30</td>\n",
       "      <td>2970</td>\n",
       "      <td>N</td>\n",
       "      <td>134</td>\n",
       "      <td>2019-06-30 00:00:00</td>\n",
       "      <td>15:20</td>\n",
       "    </tr>\n",
       "    <tr>\n",
       "      <th>4175</th>\n",
       "      <td>2396</td>\n",
       "      <td>975</td>\n",
       "      <td>Turkey</td>\n",
       "      <td>Yemeksepeti</td>\n",
       "      <td>freelance rider</td>\n",
       "      <td>Foot</td>\n",
       "      <td>0</td>\n",
       "      <td>53</td>\n",
       "      <td>2661</td>\n",
       "      <td>Y</td>\n",
       "      <td>74</td>\n",
       "      <td>2019-06-17 00:00:00</td>\n",
       "      <td>11:39</td>\n",
       "    </tr>\n",
       "    <tr>\n",
       "      <th>5969</th>\n",
       "      <td>7515</td>\n",
       "      <td>975</td>\n",
       "      <td>Turkey</td>\n",
       "      <td>Yemeksepeti</td>\n",
       "      <td>third party rider</td>\n",
       "      <td>Foot</td>\n",
       "      <td>5</td>\n",
       "      <td>120</td>\n",
       "      <td>2957</td>\n",
       "      <td>Y</td>\n",
       "      <td>95</td>\n",
       "      <td>2019-01-31 00:00:00</td>\n",
       "      <td>21:38</td>\n",
       "    </tr>\n",
       "    <tr>\n",
       "      <th>6545</th>\n",
       "      <td>3126</td>\n",
       "      <td>975</td>\n",
       "      <td>Turkey</td>\n",
       "      <td>Yemeksepeti</td>\n",
       "      <td>third party rider</td>\n",
       "      <td>Bike</td>\n",
       "      <td>3</td>\n",
       "      <td>16</td>\n",
       "      <td>2339</td>\n",
       "      <td>Y</td>\n",
       "      <td>54</td>\n",
       "      <td>2018-12-15 00:00:00</td>\n",
       "      <td>09:44</td>\n",
       "    </tr>\n",
       "    <tr>\n",
       "      <th>6754</th>\n",
       "      <td>2846</td>\n",
       "      <td>975</td>\n",
       "      <td>Turkey</td>\n",
       "      <td>Yemeksepeti</td>\n",
       "      <td>own rider</td>\n",
       "      <td>Bike</td>\n",
       "      <td>8</td>\n",
       "      <td>43</td>\n",
       "      <td>2353</td>\n",
       "      <td>Y</td>\n",
       "      <td>88</td>\n",
       "      <td>2018-11-30 00:00:00</td>\n",
       "      <td>00:22</td>\n",
       "    </tr>\n",
       "    <tr>\n",
       "      <th>8006</th>\n",
       "      <td>81</td>\n",
       "      <td>975</td>\n",
       "      <td>Turkey</td>\n",
       "      <td>Yemeksepeti</td>\n",
       "      <td>third party rider</td>\n",
       "      <td>Bike</td>\n",
       "      <td>7</td>\n",
       "      <td>142</td>\n",
       "      <td>2774</td>\n",
       "      <td>N</td>\n",
       "      <td>108</td>\n",
       "      <td>2018-08-30 00:00:00</td>\n",
       "      <td>07:48</td>\n",
       "    </tr>\n",
       "    <tr>\n",
       "      <th>8521</th>\n",
       "      <td>5504</td>\n",
       "      <td>975</td>\n",
       "      <td>Turkey</td>\n",
       "      <td>Yemeksepeti</td>\n",
       "      <td>freelance rider</td>\n",
       "      <td>Scooter</td>\n",
       "      <td>4</td>\n",
       "      <td>83</td>\n",
       "      <td>2427</td>\n",
       "      <td>Y</td>\n",
       "      <td>113</td>\n",
       "      <td>2018-07-24 00:00:00</td>\n",
       "      <td>01:26</td>\n",
       "    </tr>\n",
       "  </tbody>\n",
       "</table>\n",
       "</div>"
      ],
      "text/plain": [
       "         # Number of rider List of operating countries List of entities  \\\n",
       "469   4938             975                      Turkey      Yemeksepeti   \n",
       "2092  2835             975                      Turkey      Yemeksepeti   \n",
       "2629  5459             975                      Turkey      Yemeksepeti   \n",
       "3423  8608             975                      Turkey      Yemeksepeti   \n",
       "4010  7513             975                      Turkey      Yemeksepeti   \n",
       "4175  2396             975                      Turkey      Yemeksepeti   \n",
       "5969  7515             975                      Turkey      Yemeksepeti   \n",
       "6545  3126             975                      Turkey      Yemeksepeti   \n",
       "6754  2846             975                      Turkey      Yemeksepeti   \n",
       "8006    81             975                      Turkey      Yemeksepeti   \n",
       "8521  5504             975                      Turkey      Yemeksepeti   \n",
       "\n",
       "     Type of employment Type of transport means Number of accidents  \\\n",
       "469           own rider                    Bike                   9   \n",
       "2092    freelance rider                 Scooter                   4   \n",
       "2629    freelance rider                 Scooter                   0   \n",
       "3423    freelance rider                 Scooter                   2   \n",
       "4010          own rider                    Foot                   6   \n",
       "4175    freelance rider                    Foot                   0   \n",
       "5969  third party rider                    Foot                   5   \n",
       "6545  third party rider                    Bike                   3   \n",
       "6754          own rider                    Bike                   8   \n",
       "8006  third party rider                    Bike                   7   \n",
       "8521    freelance rider                 Scooter                   4   \n",
       "\n",
       "     Financial losses due to claims Rider salary p.M. Insurance Y/N  \\\n",
       "469                             239              2066             Y   \n",
       "2092                            187              2272             N   \n",
       "2629                            126              2031             Y   \n",
       "3423                            125              2269             N   \n",
       "4010                             30              2970             N   \n",
       "4175                             53              2661             Y   \n",
       "5969                            120              2957             Y   \n",
       "6545                             16              2339             Y   \n",
       "6754                             43              2353             Y   \n",
       "8006                            142              2774             N   \n",
       "8521                             83              2427             Y   \n",
       "\n",
       "      Number of deliveries p.D.        Delivery date Delivery time  \n",
       "469                          88  2020-03-27 00:00:00         11:32  \n",
       "2092                        142  2019-11-25 00:00:00         04:58  \n",
       "2629                        138  2019-10-13 00:00:00         03:20  \n",
       "3423                        116  2019-08-14 00:00:00         19:10  \n",
       "4010                        134  2019-06-30 00:00:00         15:20  \n",
       "4175                         74  2019-06-17 00:00:00         11:39  \n",
       "5969                         95  2019-01-31 00:00:00         21:38  \n",
       "6545                         54  2018-12-15 00:00:00         09:44  \n",
       "6754                         88  2018-11-30 00:00:00         00:22  \n",
       "8006                        108  2018-08-30 00:00:00         07:48  \n",
       "8521                        113  2018-07-24 00:00:00         01:26  "
      ]
     },
     "execution_count": 143,
     "metadata": {},
     "output_type": "execute_result"
    }
   ],
   "source": [
    "# check this rider\n",
    "data[data['Number of rider']==975]"
   ]
  },
  {
   "cell_type": "code",
   "execution_count": 144,
   "metadata": {},
   "outputs": [
    {
     "data": {
      "text/plain": [
       "own rider            4094\n",
       "third party rider    2923\n",
       "freelance rider      2904\n",
       "first class             7\n",
       "987n*&                  5\n",
       "party order             4\n",
       "98ddd                   3\n",
       "345t cqe                1\n",
       "Cow                     1\n",
       "Goat                    1\n",
       "Duck                    1\n",
       "iuqwruf                 1\n",
       "oijdOFj                 1\n",
       "Chicken                 1\n",
       "Pig                     1\n",
       "Horse                   1\n",
       "Name: Type of employment, dtype: int64"
      ]
     },
     "execution_count": 144,
     "metadata": {},
     "output_type": "execute_result"
    }
   ],
   "source": [
    "#? Type of Employment\n",
    "pd.value_counts(data['Type of employment'])"
   ]
  },
  {
   "cell_type": "code",
   "execution_count": 145,
   "metadata": {},
   "outputs": [],
   "source": [
    "data=data[data['Type of employment'].isin(['own rider','third party rider','freelance rider'])]"
   ]
  },
  {
   "cell_type": "code",
   "execution_count": 146,
   "metadata": {},
   "outputs": [
    {
     "data": {
      "text/plain": [
       "count      9921\n",
       "unique        2\n",
       "top       False\n",
       "freq       9883\n",
       "Name: Type of transport means, dtype: object"
      ]
     },
     "execution_count": 146,
     "metadata": {},
     "output_type": "execute_result"
    }
   ],
   "source": [
    "#? Type of Transport\n",
    "data['Type of transport means'].isnull().describe()\n",
    "\n"
   ]
  },
  {
   "cell_type": "code",
   "execution_count": 147,
   "metadata": {},
   "outputs": [
    {
     "data": {
      "text/plain": [
       "Scooter     4463\n",
       "Foot        2727\n",
       "Bike        2678\n",
       "Swimming      15\n",
       "Name: Type of transport means, dtype: int64"
      ]
     },
     "execution_count": 147,
     "metadata": {},
     "output_type": "execute_result"
    }
   ],
   "source": [
    "pd.value_counts(data['Type of transport means'])\n",
    "\n"
   ]
  },
  {
   "cell_type": "code",
   "execution_count": 148,
   "metadata": {},
   "outputs": [],
   "source": [
    "data=data[data['Type of transport means'].isin(['Scooter','Foot','Bike'])]"
   ]
  },
  {
   "cell_type": "code",
   "execution_count": 149,
   "metadata": {},
   "outputs": [],
   "source": [
    "data=data[data['Number of accidents'].astype(str).str.isdigit()]\n",
    "data['Number of accidents']=data['Number of accidents'].apply(lambda x:pd.to_numeric(x))"
   ]
  },
  {
   "cell_type": "code",
   "execution_count": 150,
   "metadata": {},
   "outputs": [
    {
     "data": {
      "text/plain": [
       "count    9.861000e+03\n",
       "mean     2.779165e+03\n",
       "std      1.533930e+05\n",
       "min      0.000000e+00\n",
       "25%      2.000000e+00\n",
       "50%      4.000000e+00\n",
       "75%      7.000000e+00\n",
       "max      8.787323e+06\n",
       "Name: Number of accidents, dtype: float64"
      ]
     },
     "execution_count": 150,
     "metadata": {},
     "output_type": "execute_result"
    }
   ],
   "source": [
    "# check the distribution of this variable to check for outliers\n",
    "data['Number of accidents'].describe()"
   ]
  },
  {
   "cell_type": "code",
   "execution_count": 151,
   "metadata": {},
   "outputs": [
    {
     "data": {
      "text/plain": [
       "<matplotlib.axes._subplots.AxesSubplot at 0x1a28377e10>"
      ]
     },
     "execution_count": 151,
     "metadata": {},
     "output_type": "execute_result"
    },
    {
     "data": {
      "image/png": "[encoded data removed]",
      "text/plain": [
       "<Figure size 432x288 with 1 Axes>"
      ]
     },
     "metadata": {
      "needs_background": "light"
     },
     "output_type": "display_data"
    }
   ],
   "source": [
    "data.boxplot(column=['Number of accidents']) # We have one outlier"
   ]
  },
  {
   "cell_type": "code",
   "execution_count": 152,
   "metadata": {},
   "outputs": [
    {
     "data": {
      "text/plain": [
       "<matplotlib.axes._subplots.AxesSubplot at 0x1a28249f90>"
      ]
     },
     "execution_count": 152,
     "metadata": {},
     "output_type": "execute_result"
    },
    {
     "data": {
      "image/png": "[encoded data removed]",
      "text/plain": [
       "<Figure size 432x288 with 1 Axes>"
      ]
     },
     "metadata": {
      "needs_background": "light"
     },
     "output_type": "display_data"
    }
   ],
   "source": [
    "# Remove it ;plot it again\n",
    "data=data[data['Number of accidents'].between(0,1000,inclusive=True)]\n",
    "data.boxplot(column=['Number of accidents'])"
   ]
  },
  {
   "cell_type": "code",
   "execution_count": 153,
   "metadata": {},
   "outputs": [
    {
     "data": {
      "text/plain": [
       "0     27\n",
       "1    167\n",
       "2    105\n",
       "3     73\n",
       "4    259\n",
       "Name: Financial losses due to claims, dtype: object"
      ]
     },
     "execution_count": 153,
     "metadata": {},
     "output_type": "execute_result"
    }
   ],
   "source": [
    "#? Financial Losses due to claims\n",
    "data['Financial losses due to claims'].head()\n",
    "\n"
   ]
  },
  {
   "cell_type": "code",
   "execution_count": 154,
   "metadata": {},
   "outputs": [],
   "source": [
    "data=data[data['Financial losses due to claims'].astype(str).str.isdigit()]"
   ]
  },
  {
   "cell_type": "code",
   "execution_count": 155,
   "metadata": {},
   "outputs": [],
   "source": [
    "data['Financial losses due to claims']=data['Financial losses due to claims'].apply(lambda x:pd.to_numeric(x))"
   ]
  },
  {
   "cell_type": "code",
   "execution_count": 156,
   "metadata": {},
   "outputs": [
    {
     "data": {
      "text/plain": [
       "count    9.848000e+03\n",
       "mean     8.476441e+09\n",
       "std      8.411773e+11\n",
       "min      0.000000e+00\n",
       "25%      7.400000e+01\n",
       "50%      1.480000e+02\n",
       "75%      2.250000e+02\n",
       "max      8.347599e+13\n",
       "Name: Financial losses due to claims, dtype: float64"
      ]
     },
     "execution_count": 156,
     "metadata": {},
     "output_type": "execute_result"
    }
   ],
   "source": [
    "data['Financial losses due to claims'].describe()"
   ]
  },
  {
   "cell_type": "code",
   "execution_count": 157,
   "metadata": {},
   "outputs": [
    {
     "data": {
      "text/plain": [
       "<matplotlib.axes._subplots.AxesSubplot at 0x1a2835f5d0>"
      ]
     },
     "execution_count": 157,
     "metadata": {},
     "output_type": "execute_result"
    },
    {
     "data": {
      "image/png": "[encoded data removed]",
      "text/plain": [
       "<Figure size 432x288 with 1 Axes>"
      ]
     },
     "metadata": {
      "needs_background": "light"
     },
     "output_type": "display_data"
    }
   ],
   "source": [
    "data.boxplot(column=['Financial losses due to claims'])"
   ]
  },
  {
   "cell_type": "code",
   "execution_count": 158,
   "metadata": {},
   "outputs": [],
   "source": [
    "data=data[data['Financial losses due to claims'].between(0,1000,inclusive=True)]"
   ]
  },
  {
   "cell_type": "code",
   "execution_count": 159,
   "metadata": {},
   "outputs": [
    {
     "data": {
      "text/plain": [
       "0    2611\n",
       "1    2260\n",
       "2    2010\n",
       "3    2792\n",
       "4    2905\n",
       "Name: Rider salary p.M., dtype: object"
      ]
     },
     "execution_count": 159,
     "metadata": {},
     "output_type": "execute_result"
    }
   ],
   "source": [
    "#? Rider salary per month\n",
    "data['Rider salary p.M.'].head()"
   ]
  },
  {
   "cell_type": "code",
   "execution_count": 160,
   "metadata": {},
   "outputs": [],
   "source": [
    "data=data[data['Rider salary p.M.'].astype(str).str.isdigit()]"
   ]
  },
  {
   "cell_type": "code",
   "execution_count": 161,
   "metadata": {},
   "outputs": [],
   "source": [
    "data['Rider salary p.M.']=data['Rider salary p.M.'].apply(lambda x:pd.to_numeric(x))"
   ]
  },
  {
   "cell_type": "code",
   "execution_count": 162,
   "metadata": {},
   "outputs": [
    {
     "data": {
      "text/plain": [
       "count    9.829000e+03\n",
       "mean     1.001883e+09\n",
       "std      9.922778e+10\n",
       "min      2.000000e+03\n",
       "25%      2.245000e+03\n",
       "50%      2.497000e+03\n",
       "75%      2.750000e+03\n",
       "max      9.837569e+12\n",
       "Name: Rider salary p.M., dtype: float64"
      ]
     },
     "execution_count": 162,
     "metadata": {},
     "output_type": "execute_result"
    }
   ],
   "source": [
    "data['Rider salary p.M.'].describe()"
   ]
  },
  {
   "cell_type": "code",
   "execution_count": 163,
   "metadata": {},
   "outputs": [
    {
     "data": {
      "text/plain": [
       "<matplotlib.axes._subplots.AxesSubplot at 0x1a284a8c50>"
      ]
     },
     "execution_count": 163,
     "metadata": {},
     "output_type": "execute_result"
    },
    {
     "data": {
      "image/png": "[encoded data removed]",
      "text/plain": [
       "<Figure size 432x288 with 1 Axes>"
      ]
     },
     "metadata": {
      "needs_background": "light"
     },
     "output_type": "display_data"
    }
   ],
   "source": [
    "data.boxplot(column=['Rider salary p.M.'])"
   ]
  },
  {
   "cell_type": "code",
   "execution_count": 164,
   "metadata": {},
   "outputs": [],
   "source": [
    "data=data[data['Rider salary p.M.'].between(0,3000,inclusive=True)]"
   ]
  },
  {
   "cell_type": "code",
   "execution_count": 165,
   "metadata": {},
   "outputs": [
    {
     "data": {
      "text/plain": [
       "0    Y\n",
       "1    N\n",
       "2    N\n",
       "3    N\n",
       "4    N\n",
       "Name: Insurance Y/N, dtype: object"
      ]
     },
     "execution_count": 165,
     "metadata": {},
     "output_type": "execute_result"
    }
   ],
   "source": [
    "#? Insurance boolean variable\n",
    "data['Insurance Y/N'].head()"
   ]
  },
  {
   "cell_type": "code",
   "execution_count": 166,
   "metadata": {},
   "outputs": [
    {
     "data": {
      "text/plain": [
       "Y     4930\n",
       "N     4891\n",
       "ok       4\n",
       "Name: Insurance Y/N, dtype: int64"
      ]
     },
     "execution_count": 166,
     "metadata": {},
     "output_type": "execute_result"
    }
   ],
   "source": [
    "pd.value_counts(data['Insurance Y/N'])"
   ]
  },
  {
   "cell_type": "code",
   "execution_count": 167,
   "metadata": {},
   "outputs": [],
   "source": [
    "data=data[data['Insurance Y/N'].isin(['Y','N'])]"
   ]
  },
  {
   "cell_type": "code",
   "execution_count": 168,
   "metadata": {},
   "outputs": [
    {
     "data": {
      "text/plain": [
       "0    119\n",
       "1    130\n",
       "2     92\n",
       "3    137\n",
       "4     73\n",
       "Name: Number of deliveries p.D., dtype: int64"
      ]
     },
     "execution_count": 168,
     "metadata": {},
     "output_type": "execute_result"
    }
   ],
   "source": [
    "#? Number of deliveries per day\n",
    "data['Number of deliveries p.D.'].head()"
   ]
  },
  {
   "cell_type": "code",
   "execution_count": 169,
   "metadata": {},
   "outputs": [
    {
     "data": {
      "text/plain": [
       "count    9821.000000\n",
       "mean      100.217289\n",
       "std        29.091474\n",
       "min        50.000000\n",
       "25%        75.000000\n",
       "50%       101.000000\n",
       "75%       125.000000\n",
       "max       150.000000\n",
       "Name: Number of deliveries p.D., dtype: float64"
      ]
     },
     "execution_count": 169,
     "metadata": {},
     "output_type": "execute_result"
    }
   ],
   "source": [
    "data['Number of deliveries p.D.'].describe()"
   ]
  },
  {
   "cell_type": "code",
   "execution_count": 170,
   "metadata": {},
   "outputs": [
    {
     "data": {
      "text/plain": [
       "<matplotlib.axes._subplots.AxesSubplot at 0x1a284ebc50>"
      ]
     },
     "execution_count": 170,
     "metadata": {},
     "output_type": "execute_result"
    },
    {
     "data": {
      "image/png": "[encoded data removed]",
      "text/plain": [
       "<Figure size 432x288 with 1 Axes>"
      ]
     },
     "metadata": {
      "needs_background": "light"
     },
     "output_type": "display_data"
    }
   ],
   "source": [
    "data.boxplot(column=['Number of deliveries p.D.'])"
   ]
  },
  {
   "cell_type": "code",
   "execution_count": 171,
   "metadata": {
    "scrolled": true
   },
   "outputs": [],
   "source": [
    "data.drop(data.tail(1).index,inplace=True)"
   ]
  },
  {
   "cell_type": "code",
   "execution_count": 172,
   "metadata": {},
   "outputs": [
    {
     "data": {
      "text/html": [
       "<div>\n",
       "<style scoped>\n",
       "    .dataframe tbody tr th:only-of-type {\n",
       "        vertical-align: middle;\n",
       "    }\n",
       "\n",
       "    .dataframe tbody tr th {\n",
       "        vertical-align: top;\n",
       "    }\n",
       "\n",
       "    .dataframe thead th {\n",
       "        text-align: right;\n",
       "    }\n",
       "</style>\n",
       "<table border=\"1\" class=\"dataframe\">\n",
       "  <thead>\n",
       "    <tr style=\"text-align: right;\">\n",
       "      <th></th>\n",
       "      <th>#</th>\n",
       "      <th>Number of rider</th>\n",
       "      <th>List of operating countries</th>\n",
       "      <th>List of entities</th>\n",
       "      <th>Type of employment</th>\n",
       "      <th>Type of transport means</th>\n",
       "      <th>Number of accidents</th>\n",
       "      <th>Financial losses due to claims</th>\n",
       "      <th>Rider salary p.M.</th>\n",
       "      <th>Insurance Y/N</th>\n",
       "      <th>Number of deliveries p.D.</th>\n",
       "      <th>Delivery date</th>\n",
       "      <th>Delivery time</th>\n",
       "    </tr>\n",
       "  </thead>\n",
       "  <tbody>\n",
       "    <tr>\n",
       "      <th>0</th>\n",
       "      <td>523</td>\n",
       "      <td>3136</td>\n",
       "      <td>Turkey</td>\n",
       "      <td>Yemeksepeti</td>\n",
       "      <td>third party rider</td>\n",
       "      <td>Bike</td>\n",
       "      <td>6</td>\n",
       "      <td>27</td>\n",
       "      <td>2611</td>\n",
       "      <td>Y</td>\n",
       "      <td>119</td>\n",
       "      <td>2020-04-30 00:00:00</td>\n",
       "      <td>00:03</td>\n",
       "    </tr>\n",
       "    <tr>\n",
       "      <th>1</th>\n",
       "      <td>680</td>\n",
       "      <td>3121</td>\n",
       "      <td>Turkey</td>\n",
       "      <td>Yemeksepeti</td>\n",
       "      <td>third party rider</td>\n",
       "      <td>Scooter</td>\n",
       "      <td>5</td>\n",
       "      <td>167</td>\n",
       "      <td>2260</td>\n",
       "      <td>N</td>\n",
       "      <td>130</td>\n",
       "      <td>2020-04-30 00:00:00</td>\n",
       "      <td>19:20</td>\n",
       "    </tr>\n",
       "    <tr>\n",
       "      <th>2</th>\n",
       "      <td>641</td>\n",
       "      <td>1187</td>\n",
       "      <td>Turkey</td>\n",
       "      <td>Yemeksepeti</td>\n",
       "      <td>freelance rider</td>\n",
       "      <td>Foot</td>\n",
       "      <td>4</td>\n",
       "      <td>105</td>\n",
       "      <td>2010</td>\n",
       "      <td>N</td>\n",
       "      <td>92</td>\n",
       "      <td>2020-04-30 00:00:00</td>\n",
       "      <td>02:40</td>\n",
       "    </tr>\n",
       "    <tr>\n",
       "      <th>3</th>\n",
       "      <td>326</td>\n",
       "      <td>429</td>\n",
       "      <td>Turkey</td>\n",
       "      <td>Yemeksepeti</td>\n",
       "      <td>own rider</td>\n",
       "      <td>Bike</td>\n",
       "      <td>1</td>\n",
       "      <td>73</td>\n",
       "      <td>2792</td>\n",
       "      <td>N</td>\n",
       "      <td>137</td>\n",
       "      <td>2020-04-30 00:00:00</td>\n",
       "      <td>07:44</td>\n",
       "    </tr>\n",
       "    <tr>\n",
       "      <th>4</th>\n",
       "      <td>656</td>\n",
       "      <td>609</td>\n",
       "      <td>Turkey</td>\n",
       "      <td>Yemeksepeti</td>\n",
       "      <td>third party rider</td>\n",
       "      <td>Bike</td>\n",
       "      <td>0</td>\n",
       "      <td>259</td>\n",
       "      <td>2905</td>\n",
       "      <td>N</td>\n",
       "      <td>73</td>\n",
       "      <td>2020-04-30 00:00:00</td>\n",
       "      <td>20:48</td>\n",
       "    </tr>\n",
       "    <tr>\n",
       "      <th>...</th>\n",
       "      <td>...</td>\n",
       "      <td>...</td>\n",
       "      <td>...</td>\n",
       "      <td>...</td>\n",
       "      <td>...</td>\n",
       "      <td>...</td>\n",
       "      <td>...</td>\n",
       "      <td>...</td>\n",
       "      <td>...</td>\n",
       "      <td>...</td>\n",
       "      <td>...</td>\n",
       "      <td>...</td>\n",
       "      <td>...</td>\n",
       "    </tr>\n",
       "    <tr>\n",
       "      <th>9993</th>\n",
       "      <td>9076</td>\n",
       "      <td>1168</td>\n",
       "      <td>Turkey</td>\n",
       "      <td>Yemeksepeti</td>\n",
       "      <td>freelance rider</td>\n",
       "      <td>Bike</td>\n",
       "      <td>1</td>\n",
       "      <td>155</td>\n",
       "      <td>2096</td>\n",
       "      <td>Y</td>\n",
       "      <td>128</td>\n",
       "      <td>2018-04-01 00:00:00</td>\n",
       "      <td>09:45</td>\n",
       "    </tr>\n",
       "    <tr>\n",
       "      <th>9994</th>\n",
       "      <td>9418</td>\n",
       "      <td>3197</td>\n",
       "      <td>Turkey</td>\n",
       "      <td>Yemeksepeti</td>\n",
       "      <td>freelance rider</td>\n",
       "      <td>Bike</td>\n",
       "      <td>5</td>\n",
       "      <td>51</td>\n",
       "      <td>2103</td>\n",
       "      <td>N</td>\n",
       "      <td>122</td>\n",
       "      <td>2018-04-01 00:00:00</td>\n",
       "      <td>23:56</td>\n",
       "    </tr>\n",
       "    <tr>\n",
       "      <th>9995</th>\n",
       "      <td>9774</td>\n",
       "      <td>814</td>\n",
       "      <td>Turkey</td>\n",
       "      <td>Yemeksepeti</td>\n",
       "      <td>own rider</td>\n",
       "      <td>Bike</td>\n",
       "      <td>5</td>\n",
       "      <td>49</td>\n",
       "      <td>2503</td>\n",
       "      <td>Y</td>\n",
       "      <td>123</td>\n",
       "      <td>2018-04-01 00:00:00</td>\n",
       "      <td>09:11</td>\n",
       "    </tr>\n",
       "    <tr>\n",
       "      <th>9996</th>\n",
       "      <td>9828</td>\n",
       "      <td>466</td>\n",
       "      <td>Turkey</td>\n",
       "      <td>Yemeksepeti</td>\n",
       "      <td>freelance rider</td>\n",
       "      <td>Bike</td>\n",
       "      <td>4</td>\n",
       "      <td>123</td>\n",
       "      <td>2186</td>\n",
       "      <td>N</td>\n",
       "      <td>50</td>\n",
       "      <td>2018-04-01 00:00:00</td>\n",
       "      <td>23:06</td>\n",
       "    </tr>\n",
       "    <tr>\n",
       "      <th>9997</th>\n",
       "      <td>9891</td>\n",
       "      <td>971</td>\n",
       "      <td>Turkey</td>\n",
       "      <td>Yemeksepeti</td>\n",
       "      <td>third party rider</td>\n",
       "      <td>Scooter</td>\n",
       "      <td>4</td>\n",
       "      <td>70</td>\n",
       "      <td>2143</td>\n",
       "      <td>N</td>\n",
       "      <td>122</td>\n",
       "      <td>2018-04-01 00:00:00</td>\n",
       "      <td>04:09</td>\n",
       "    </tr>\n",
       "  </tbody>\n",
       "</table>\n",
       "<p>9820 rows × 13 columns</p>\n",
       "</div>"
      ],
      "text/plain": [
       "         # Number of rider List of operating countries List of entities  \\\n",
       "0      523            3136                      Turkey      Yemeksepeti   \n",
       "1      680            3121                      Turkey      Yemeksepeti   \n",
       "2      641            1187                      Turkey      Yemeksepeti   \n",
       "3      326             429                      Turkey      Yemeksepeti   \n",
       "4      656             609                      Turkey      Yemeksepeti   \n",
       "...    ...             ...                         ...              ...   \n",
       "9993  9076            1168                      Turkey      Yemeksepeti   \n",
       "9994  9418            3197                      Turkey      Yemeksepeti   \n",
       "9995  9774             814                      Turkey      Yemeksepeti   \n",
       "9996  9828             466                      Turkey      Yemeksepeti   \n",
       "9997  9891             971                      Turkey      Yemeksepeti   \n",
       "\n",
       "     Type of employment Type of transport means  Number of accidents  \\\n",
       "0     third party rider                    Bike                    6   \n",
       "1     third party rider                 Scooter                    5   \n",
       "2       freelance rider                    Foot                    4   \n",
       "3             own rider                    Bike                    1   \n",
       "4     third party rider                    Bike                    0   \n",
       "...                 ...                     ...                  ...   \n",
       "9993    freelance rider                    Bike                    1   \n",
       "9994    freelance rider                    Bike                    5   \n",
       "9995          own rider                    Bike                    5   \n",
       "9996    freelance rider                    Bike                    4   \n",
       "9997  third party rider                 Scooter                    4   \n",
       "\n",
       "      Financial losses due to claims  Rider salary p.M. Insurance Y/N  \\\n",
       "0                                 27               2611             Y   \n",
       "1                                167               2260             N   \n",
       "2                                105               2010             N   \n",
       "3                                 73               2792             N   \n",
       "4                                259               2905             N   \n",
       "...                              ...                ...           ...   \n",
       "9993                             155               2096             Y   \n",
       "9994                              51               2103             N   \n",
       "9995                              49               2503             Y   \n",
       "9996                             123               2186             N   \n",
       "9997                              70               2143             N   \n",
       "\n",
       "      Number of deliveries p.D.        Delivery date Delivery time  \n",
       "0                           119  2020-04-30 00:00:00         00:03  \n",
       "1                           130  2020-04-30 00:00:00         19:20  \n",
       "2                            92  2020-04-30 00:00:00         02:40  \n",
       "3                           137  2020-04-30 00:00:00         07:44  \n",
       "4                            73  2020-04-30 00:00:00         20:48  \n",
       "...                         ...                  ...           ...  \n",
       "9993                        128  2018-04-01 00:00:00         09:45  \n",
       "9994                        122  2018-04-01 00:00:00         23:56  \n",
       "9995                        123  2018-04-01 00:00:00         09:11  \n",
       "9996                         50  2018-04-01 00:00:00         23:06  \n",
       "9997                        122  2018-04-01 00:00:00         04:09  \n",
       "\n",
       "[9820 rows x 13 columns]"
      ]
     },
     "execution_count": 172,
     "metadata": {},
     "output_type": "execute_result"
    }
   ],
   "source": [
    "data"
   ]
  },
  {
   "cell_type": "code",
   "execution_count": 173,
   "metadata": {},
   "outputs": [],
   "source": [
    "# this variable is fine"
   ]
  },
  {
   "cell_type": "code",
   "execution_count": 174,
   "metadata": {},
   "outputs": [],
   "source": [
    "## Save the cleaned data"
   ]
  },
  {
   "cell_type": "code",
   "execution_count": 175,
   "metadata": {},
   "outputs": [],
   "source": [
    "# Change the tedious column names to something we can recall easily\n",
    "data.columns=['id','num_of_rider','country','city','employment','transport','accidents','losses','salary','insurance','deliveries','date','time']"
   ]
  },
  {
   "cell_type": "code",
   "execution_count": 176,
   "metadata": {},
   "outputs": [],
   "source": [
    "data.to_csv('cleaned_data.csv')"
   ]
  },
  {
   "cell_type": "code",
   "execution_count": 177,
   "metadata": {},
   "outputs": [],
   "source": [
    "#! Keep delivery date and time separate for now - time series model\n",
    "#! First try to understand the variables we have so far and how it affects number of accidents\n",
    "\n",
    "################################################################################################"
   ]
  },
  {
   "cell_type": "code",
   "execution_count": 178,
   "metadata": {},
   "outputs": [],
   "source": [
    "# Correlation between variables\n",
    "import seaborn as sns\n",
    "#data=pd.read_csv('cleaned_data.csv')"
   ]
  },
  {
   "cell_type": "code",
   "execution_count": 179,
   "metadata": {},
   "outputs": [],
   "source": [
    "# subset of the dataset without unwanted variables\n",
    "data=data[['employment','transport','accidents','losses','salary','insurance','deliveries']]"
   ]
  },
  {
   "cell_type": "code",
   "execution_count": 180,
   "metadata": {},
   "outputs": [
    {
     "name": "stderr",
     "output_type": "stream",
     "text": [
      "/Users/deepz/opt/anaconda3/lib/python3.7/site-packages/ipykernel_launcher.py:7: SettingWithCopyWarning: \n",
      "A value is trying to be set on a copy of a slice from a DataFrame.\n",
      "Try using .loc[row_indexer,col_indexer] = value instead\n",
      "\n",
      "See the caveats in the documentation: https://pandas.pydata.org/pandas-docs/stable/user_guide/indexing.html#returning-a-view-versus-a-copy\n",
      "  import sys\n",
      "/Users/deepz/opt/anaconda3/lib/python3.7/site-packages/ipykernel_launcher.py:8: SettingWithCopyWarning: \n",
      "A value is trying to be set on a copy of a slice from a DataFrame.\n",
      "Try using .loc[row_indexer,col_indexer] = value instead\n",
      "\n",
      "See the caveats in the documentation: https://pandas.pydata.org/pandas-docs/stable/user_guide/indexing.html#returning-a-view-versus-a-copy\n",
      "  \n",
      "/Users/deepz/opt/anaconda3/lib/python3.7/site-packages/ipykernel_launcher.py:9: SettingWithCopyWarning: \n",
      "A value is trying to be set on a copy of a slice from a DataFrame.\n",
      "Try using .loc[row_indexer,col_indexer] = value instead\n",
      "\n",
      "See the caveats in the documentation: https://pandas.pydata.org/pandas-docs/stable/user_guide/indexing.html#returning-a-view-versus-a-copy\n",
      "  if __name__ == '__main__':\n",
      "/Users/deepz/opt/anaconda3/lib/python3.7/site-packages/ipykernel_launcher.py:12: SettingWithCopyWarning: \n",
      "A value is trying to be set on a copy of a slice from a DataFrame.\n",
      "Try using .loc[row_indexer,col_indexer] = value instead\n",
      "\n",
      "See the caveats in the documentation: https://pandas.pydata.org/pandas-docs/stable/user_guide/indexing.html#returning-a-view-versus-a-copy\n",
      "  if sys.path[0] == '':\n",
      "/Users/deepz/opt/anaconda3/lib/python3.7/site-packages/ipykernel_launcher.py:13: SettingWithCopyWarning: \n",
      "A value is trying to be set on a copy of a slice from a DataFrame.\n",
      "Try using .loc[row_indexer,col_indexer] = value instead\n",
      "\n",
      "See the caveats in the documentation: https://pandas.pydata.org/pandas-docs/stable/user_guide/indexing.html#returning-a-view-versus-a-copy\n",
      "  del sys.path[0]\n",
      "/Users/deepz/opt/anaconda3/lib/python3.7/site-packages/ipykernel_launcher.py:14: SettingWithCopyWarning: \n",
      "A value is trying to be set on a copy of a slice from a DataFrame.\n",
      "Try using .loc[row_indexer,col_indexer] = value instead\n",
      "\n",
      "See the caveats in the documentation: https://pandas.pydata.org/pandas-docs/stable/user_guide/indexing.html#returning-a-view-versus-a-copy\n",
      "  \n",
      "/Users/deepz/opt/anaconda3/lib/python3.7/site-packages/ipykernel_launcher.py:17: SettingWithCopyWarning: \n",
      "A value is trying to be set on a copy of a slice from a DataFrame.\n",
      "Try using .loc[row_indexer,col_indexer] = value instead\n",
      "\n",
      "See the caveats in the documentation: https://pandas.pydata.org/pandas-docs/stable/user_guide/indexing.html#returning-a-view-versus-a-copy\n",
      "/Users/deepz/opt/anaconda3/lib/python3.7/site-packages/ipykernel_launcher.py:18: SettingWithCopyWarning: \n",
      "A value is trying to be set on a copy of a slice from a DataFrame.\n",
      "Try using .loc[row_indexer,col_indexer] = value instead\n",
      "\n",
      "See the caveats in the documentation: https://pandas.pydata.org/pandas-docs/stable/user_guide/indexing.html#returning-a-view-versus-a-copy\n"
     ]
    }
   ],
   "source": [
    "# encode all the variables\n",
    "#? Employment\n",
    "# 1- Own rider\n",
    "# 2- Freelance Rider\n",
    "# 3- Third Party Rider\n",
    "\n",
    "data['employment']=data['employment'].replace(['third party rider'],3)\n",
    "data['employment']=data['employment'].replace(['freelance rider'],2)\n",
    "data['employment']=data['employment'].replace(['own rider'],1)\n",
    "\n",
    "#? Transport\n",
    "data['transport']=data['transport'].replace(['Scooter'],3)\n",
    "data['transport']=data['transport'].replace(['Bike'],2)\n",
    "data['transport']=data['transport'].replace(['Foot'],1)\n",
    "\n",
    "#? Insurance\n",
    "data['insurance']=data['insurance'].replace(['Y'],1)\n",
    "data['insurance']=data['insurance'].replace(['N'],0)"
   ]
  },
  {
   "cell_type": "code",
   "execution_count": 181,
   "metadata": {},
   "outputs": [],
   "source": [
    "# Heatmap to check correlation\n",
    "corr=data.corr()"
   ]
  },
  {
   "cell_type": "code",
   "execution_count": 182,
   "metadata": {},
   "outputs": [
    {
     "data": {
      "text/plain": [
       "<matplotlib.axes._subplots.AxesSubplot at 0x1a283b3710>"
      ]
     },
     "execution_count": 182,
     "metadata": {},
     "output_type": "execute_result"
    },
    {
     "data": {
      "image/png": "[encoded data removed]",
      "text/plain": [
       "<Figure size 432x288 with 2 Axes>"
      ]
     },
     "metadata": {
      "needs_background": "light"
     },
     "output_type": "display_data"
    }
   ],
   "source": [
    "sns.heatmap(corr)\n"
   ]
  },
  {
   "cell_type": "code",
   "execution_count": 183,
   "metadata": {},
   "outputs": [],
   "source": [
    "# dont appear to be correlated"
   ]
  },
  {
   "cell_type": "code",
   "execution_count": 184,
   "metadata": {},
   "outputs": [
    {
     "data": {
      "text/plain": [
       "employment\n",
       "1    18396\n",
       "2    12887\n",
       "3    13118\n",
       "Name: accidents, dtype: int64"
      ]
     },
     "execution_count": 184,
     "metadata": {},
     "output_type": "execute_result"
    }
   ],
   "source": [
    "#! Question: How do the variables affect accidents?\n",
    "data.groupby(['employment'])['accidents'].sum()\n"
   ]
  },
  {
   "cell_type": "code",
   "execution_count": 185,
   "metadata": {},
   "outputs": [],
   "source": [
    "#! Own riders have more accidents than others by over 5000"
   ]
  },
  {
   "cell_type": "code",
   "execution_count": 186,
   "metadata": {},
   "outputs": [
    {
     "data": {
      "text/plain": [
       "transport\n",
       "1    12246\n",
       "2    12231\n",
       "3    19924\n",
       "Name: accidents, dtype: int64"
      ]
     },
     "execution_count": 186,
     "metadata": {},
     "output_type": "execute_result"
    }
   ],
   "source": [
    "data.groupby(['transport'])['accidents'].sum()"
   ]
  },
  {
   "cell_type": "code",
   "execution_count": 187,
   "metadata": {},
   "outputs": [],
   "source": [
    "#! More accidents on Scooter by over 7000 as compared to by foot or on bike"
   ]
  },
  {
   "cell_type": "code",
   "execution_count": 188,
   "metadata": {},
   "outputs": [
    {
     "data": {
      "text/plain": [
       "<matplotlib.axes._subplots.AxesSubplot at 0x1a289a7e90>"
      ]
     },
     "execution_count": 188,
     "metadata": {},
     "output_type": "execute_result"
    },
    {
     "data": {
      "image/png": "[encoded data removed]",
      "text/plain": [
       "<Figure size 432x288 with 1 Axes>"
      ]
     },
     "metadata": {
      "needs_background": "light"
     },
     "output_type": "display_data"
    }
   ],
   "source": [
    "data.groupby(['employment','transport'])['accidents'].sum().plot(kind='bar')"
   ]
  },
  {
   "cell_type": "code",
   "execution_count": 189,
   "metadata": {},
   "outputs": [],
   "source": [
    "#! Most accidents by Own riders on Scooters followed by third party on scooters"
   ]
  },
  {
   "cell_type": "code",
   "execution_count": 190,
   "metadata": {},
   "outputs": [
    {
     "name": "stderr",
     "output_type": "stream",
     "text": [
      "/Users/deepz/opt/anaconda3/lib/python3.7/site-packages/ipykernel_launcher.py:3: SettingWithCopyWarning: \n",
      "A value is trying to be set on a copy of a slice from a DataFrame.\n",
      "Try using .loc[row_indexer,col_indexer] = value instead\n",
      "\n",
      "See the caveats in the documentation: https://pandas.pydata.org/pandas-docs/stable/user_guide/indexing.html#returning-a-view-versus-a-copy\n",
      "  This is separate from the ipykernel package so we can avoid doing imports until\n"
     ]
    },
    {
     "data": {
      "text/plain": [
       "0    2009\n",
       "1    1968\n",
       "4    1952\n",
       "2    1949\n",
       "3    1942\n",
       "Name: salary, dtype: int64"
      ]
     },
     "execution_count": 190,
     "metadata": {},
     "output_type": "execute_result"
    }
   ],
   "source": [
    "# Categories (5, interval[float64]): \n",
    "# [(1999.0, 2200.0] < (2200.0, 2400.0] < (2400.0, 2600.0] < (2600.0, 2800.0] < (2800.0, 3000.0]]\n",
    "data['salary']=pd.cut(data.salary,5,labels=False)\n",
    "pd.value_counts(data.salary)"
   ]
  },
  {
   "cell_type": "code",
   "execution_count": 191,
   "metadata": {},
   "outputs": [],
   "source": [
    "# almost equal number of riders in each salary bucket from 2000 to 3000"
   ]
  },
  {
   "cell_type": "code",
   "execution_count": 192,
   "metadata": {},
   "outputs": [
    {
     "data": {
      "text/plain": [
       "salary\n",
       "0    9117\n",
       "1    8922\n",
       "2    8737\n",
       "3    8738\n",
       "4    8887\n",
       "Name: accidents, dtype: int64"
      ]
     },
     "execution_count": 192,
     "metadata": {},
     "output_type": "execute_result"
    }
   ],
   "source": [
    "data.groupby(['salary'])['accidents'].sum()\n"
   ]
  },
  {
   "cell_type": "code",
   "execution_count": 193,
   "metadata": {},
   "outputs": [],
   "source": [
    "# almost same number of accidents in all salary buckets"
   ]
  },
  {
   "cell_type": "code",
   "execution_count": 194,
   "metadata": {},
   "outputs": [
    {
     "data": {
      "text/plain": [
       "insurance\n",
       "0    22417\n",
       "1    21984\n",
       "Name: accidents, dtype: int64"
      ]
     },
     "execution_count": 194,
     "metadata": {},
     "output_type": "execute_result"
    }
   ],
   "source": [
    "data.groupby(['insurance'])['accidents'].sum() "
   ]
  },
  {
   "cell_type": "code",
   "execution_count": 195,
   "metadata": {},
   "outputs": [],
   "source": [
    "# no significant difference b/w riders with or without insurance"
   ]
  },
  {
   "cell_type": "code",
   "execution_count": 196,
   "metadata": {},
   "outputs": [
    {
     "name": "stderr",
     "output_type": "stream",
     "text": [
      "/Users/deepz/opt/anaconda3/lib/python3.7/site-packages/ipykernel_launcher.py:3: SettingWithCopyWarning: \n",
      "A value is trying to be set on a copy of a slice from a DataFrame.\n",
      "Try using .loc[row_indexer,col_indexer] = value instead\n",
      "\n",
      "See the caveats in the documentation: https://pandas.pydata.org/pandas-docs/stable/user_guide/indexing.html#returning-a-view-versus-a-copy\n",
      "  This is separate from the ipykernel package so we can avoid doing imports until\n"
     ]
    },
    {
     "data": {
      "text/plain": [
       "0    1996\n",
       "3    1987\n",
       "1    1957\n",
       "4    1940\n",
       "2    1940\n",
       "Name: deliveries, dtype: int64"
      ]
     },
     "execution_count": 196,
     "metadata": {},
     "output_type": "execute_result"
    }
   ],
   "source": [
    "#Categories (5, interval[float64]): \n",
    "# [(49.9, 70.0] < (70.0, 90.0] < (90.0, 110.0] < (110.0, 130.0] < (130.0, 150.0]]\n",
    "data['deliveries']=pd.cut(data.deliveries,5,labels=False)\n",
    "pd.value_counts(data.deliveries)"
   ]
  },
  {
   "cell_type": "code",
   "execution_count": 197,
   "metadata": {},
   "outputs": [
    {
     "data": {
      "text/plain": [
       "deliveries\n",
       "0    9020\n",
       "1    8931\n",
       "2    8839\n",
       "3    8776\n",
       "4    8835\n",
       "Name: accidents, dtype: int64"
      ]
     },
     "execution_count": 197,
     "metadata": {},
     "output_type": "execute_result"
    }
   ],
   "source": [
    "data.groupby(['deliveries'])['accidents'].sum()"
   ]
  },
  {
   "cell_type": "code",
   "execution_count": 198,
   "metadata": {},
   "outputs": [],
   "source": [
    "#! Conclusion: No discernable effect of either variable on accidents other than employment and transport"
   ]
  },
  {
   "cell_type": "code",
   "execution_count": 199,
   "metadata": {},
   "outputs": [
    {
     "data": {
      "text/plain": [
       "'/Users/deepz/Downloads'"
      ]
     },
     "execution_count": 199,
     "metadata": {},
     "output_type": "execute_result"
    }
   ],
   "source": [
    "pwd"
   ]
  },
  {
   "cell_type": "code",
   "execution_count": null,
   "metadata": {},
   "outputs": [],
   "source": [
    "#! Proceed with time series modelling approaches"
   ]
  },
  {
   "cell_type": "code",
   "execution_count": null,
   "metadata": {},
   "outputs": [],
   "source": []
  }
 ],
 "metadata": {
  "kernelspec": {
   "display_name": "Python 3",
   "language": "python",
   "name": "python3"
  },
  "language_info": {
   "codemirror_mode": {
    "name": "ipython",
    "version": 3
   },
   "file_extension": ".py",
   "mimetype": "text/x-python",
   "name": "python",
   "nbconvert_exporter": "python",
   "pygments_lexer": "ipython3",
   "version": "3.7.6"
  }
 },
 "nbformat": 4,
 "nbformat_minor": 4
}
